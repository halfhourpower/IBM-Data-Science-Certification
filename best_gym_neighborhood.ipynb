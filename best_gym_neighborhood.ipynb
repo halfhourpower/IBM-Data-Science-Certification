{
 "cells": [
  {
   "cell_type": "markdown",
   "metadata": {},
   "source": [
    "# What neighborhood in  NYC is the best location to open a gym?"
   ]
  },
  {
   "cell_type": "markdown",
   "metadata": {},
   "source": [
    "## Problem Statement:  Gyms are becoming more and more like restaurants.  There is one now on every corner.  And like restaturants many go out of business.  So, how can we find the best neighborhood that would have the best chance of success."
   ]
  },
  {
   "cell_type": "markdown",
   "metadata": {},
   "source": [
    "## Background:  There  are 4 things to consider when choosing the best location for your brand new gym. The location that is going to get you the most clients and the most bang for your buck."
   ]
  },
  {
   "cell_type": "markdown",
   "metadata": {},
   "source": [
    "* Price \n",
    "* Area Demographics\n",
    "* Competing Gyms\n",
    "* Gym Accessibilty"
   ]
  },
  {
   "cell_type": "markdown",
   "metadata": {},
   "source": [
    "## Price - the first thing you’ll want to consider is the price of the space you are trying to rent, or the land you would need to buy and develop. It’s easy to get lost in big dreams and amazing acoustics but if the funds aren’t there you won’t get far.\n",
    "## What is the real estate market like?\n"
   ]
  },
  {
   "cell_type": "markdown",
   "metadata": {},
   "source": [
    "## Area Demographics - The neigborhood your gym is in will make or break you.  Do you want an upscale neighborhood?  Do you want a neighborhood close to major shopping to bring in people.  Maybe coffe shops and lunch places for the business crowd.  We need to determine what neighborhoodbest has that."
   ]
  },
  {
   "cell_type": "markdown",
   "metadata": {},
   "source": [
    "## Competing Gyms -  As mentioned above this is possibly the biggest question to ask.  How many gyms and maybe more importantly what types of gyms are in the neighorhood you want.   A complementary workouts area can be good.  For example, many people like doing yoga and hard intense workouts.  Being near a yoga or pilates place might draw business."
   ]
  },
  {
   "cell_type": "markdown",
   "metadata": {},
   "source": [
    "## Gym accessibility - The big question here is -  What is the parking situation like.  The neighborhood where the gym is going must have ample parking.  Not necesarily a deal breaker as I've seen gyms succeed with little to no parking,  but something to consider for the perfect spot."
   ]
  },
  {
   "cell_type": "markdown",
   "metadata": {},
   "source": [
    "# Data Collection\n",
    "## I will be using New York City Neighborhood Names point file that was created as a guide to New York City’s neighborhoods that appear on the web resource, “New York: A City of Neighborhoods.\n",
    "## FourSquare will also be used to obtain appropriate information for each neighborhood"
   ]
  },
  {
   "cell_type": "code",
   "execution_count": null,
   "metadata": {},
   "outputs": [],
   "source": []
  }
 ],
 "metadata": {
  "kernelspec": {
   "display_name": "Python 3",
   "language": "python",
   "name": "python3"
  },
  "language_info": {
   "codemirror_mode": {
    "name": "ipython",
    "version": 3
   },
   "file_extension": ".py",
   "mimetype": "text/x-python",
   "name": "python",
   "nbconvert_exporter": "python",
   "pygments_lexer": "ipython3",
   "version": "3.7.4"
  }
 },
 "nbformat": 4,
 "nbformat_minor": 2
}
